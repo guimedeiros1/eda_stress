{
 "cells": [
  {
   "cell_type": "markdown",
   "metadata": {},
   "source": [
    "## Read all the files of the same student and create a dataset that is averaged by the sample rate size.\n",
    "That means the averaged dataset will have the same number of lines and each line will be an average of each second"
   ]
  },
  {
   "cell_type": "code",
   "execution_count": 29,
   "metadata": {},
   "outputs": [],
   "source": [
    "#create a function to average the lines in a dataframe by sample rate to create a dataframe with the same number of lines as the other dataframes\n",
    "\n",
    "def create_averaged_dataset (df, sample_rate):\n",
    "    for i in range(0, len(df.columns), sample_rate):\n",
    "        df = df.groupby(np.arange(len(df))//sample_rate).mean()\n",
    "\n",
    "    return df"
   ]
  },
  {
   "cell_type": "code",
   "execution_count": 30,
   "metadata": {},
   "outputs": [],
   "source": [
    "#create a function to concatenate the dataframes vertically\n",
    "\n",
    "def concat_dataframes(dfs, df, folder_name):\n",
    "    dfs[folder_name] = pd.concat([dfs[folder_name], df], axis=1)\n",
    "    return dfs[folder_name]"
   ]
  },
  {
   "cell_type": "code",
   "execution_count": 39,
   "metadata": {},
   "outputs": [],
   "source": [
    "#import the libraries\n",
    "import pandas as pd\n",
    "import os\n",
    "import numpy as np\n",
    "from tqdm import tqdm\n",
    "\n",
    "def create_dicts_for_students(parent_folder):\n",
    "\n",
    "    # Specify the parent folder containing subfolders\n",
    "    #parent_folder = './data/S1/'\n",
    "\n",
    "    # Initialize an empty dictionary to store DataFrames\n",
    "    dfs = {}\n",
    "\n",
    "    # Initialize an empty dictionary to store the averaged DataFrames\n",
    "    dfs_averaged = {}\n",
    "\n",
    "    # Iterate over subfolders in the parent folder\n",
    "    for folder_name in tqdm(os.listdir(parent_folder)):\n",
    "        folder_path = os.path.join(parent_folder, folder_name)\n",
    "        #control if metadata about the student and the exam are present in the dataframe averaged\n",
    "        #student_metadata = False\n",
    "\n",
    "        # Check if the item in the parent folder is a subfolder\n",
    "        if os.path.isdir(folder_path):\n",
    "            \n",
    "            # Create an empty DataFrame with the same name as the subfolder\n",
    "            dfs[folder_name] = pd.DataFrame()\n",
    "\n",
    "            dfs_averaged[folder_name] = pd.DataFrame()\n",
    "\n",
    "            # Iterate through each file in the folder\n",
    "            for filename in os.listdir(folder_path):\n",
    "\n",
    "                # Check if the file is a CSV file and that it is not empty\n",
    "                if filename.endswith('.csv') and os.path.getsize(os.path.join(folder_path, filename)) > 0:\n",
    "                    # Construct the full file path\n",
    "                    file_path = os.path.join(folder_path, filename)\n",
    "                \n",
    "                    # Read the CSV file into a DataFrame\n",
    "                    df = pd.read_csv(file_path, header=None)\n",
    "                    \n",
    "                    # Extract the DataFrame name (without the \".csv\" extension)\n",
    "                    df_name = os.path.splitext(filename)[0]\n",
    "\n",
    "                    # Rename the columns of the DataFrame using the file name\n",
    "                    df.columns = [df_name+'_'+str((i+1)) for i in range(len(df.columns))]\n",
    "\n",
    "                    # Call the functions to create a new dataframe that do the average fo the lines by sample rate\n",
    "                \n",
    "                    # IBI and tag are the only csv file that do not have data collected in a specified sample rate\n",
    "                    if not (df_name.startswith('IBI') or df_name.startswith('tag')): \n",
    "                        #the sample rate is found in the second line of the dataframe and for some datasets it is a list of same values\n",
    "                        #so we take the first value of the list\n",
    "                        df_averaged = create_averaged_dataset(df.loc[2:], int(df.iloc[1].values[0]))\n",
    "\n",
    "                        # create a dataset that contains the average of the lines by quartiles, using the first column to define a quartile\n",
    "                        #df_averaged = create_averaged_dataset(df.loc[2:], len(df)//4)\n",
    "\n",
    "                        #if not student_metadata:\n",
    "                        #    df_averaged['exam'] =  folder_name\n",
    "                            #take only the last string of the parent folder name to define the student\n",
    "                        #    df_averaged['student'] = parent_folder[-3:-1]\n",
    "                        #    student_metadata = True\n",
    "\n",
    "                        #concat the new averaged dataframe with the previous ones\n",
    "                        dfs_averaged[folder_name] = concat_dataframes(dfs_averaged, df_averaged, folder_name)\n",
    "\n",
    "                    # Concat two DataFrames vertically and save the result in a dictionary of dataframes\n",
    "                    dfs[folder_name] = concat_dataframes(dfs, df, folder_name)\n",
    "\n",
    "    return dfs, dfs_averaged"
   ]
  },
  {
   "cell_type": "code",
   "execution_count": 40,
   "metadata": {},
   "outputs": [
    {
     "name": "stderr",
     "output_type": "stream",
     "text": [
      "100%|██████████| 4/4 [00:04<00:00,  1.08s/it]\n",
      "100%|██████████| 4/4 [00:09<00:00,  2.40s/it]\n",
      "100%|██████████| 4/4 [00:04<00:00,  1.24s/it]\n",
      "100%|██████████| 4/4 [00:04<00:00,  1.20s/it]\n",
      "100%|██████████| 4/4 [00:04<00:00,  1.16s/it]\n",
      "100%|██████████| 4/4 [00:05<00:00,  1.32s/it]\n",
      "100%|██████████| 4/4 [00:08<00:00,  2.19s/it]\n",
      "100%|██████████| 4/4 [00:04<00:00,  1.19s/it]\n",
      "100%|██████████| 4/4 [00:03<00:00,  1.05it/s]\n",
      "100%|██████████| 4/4 [00:04<00:00,  1.18s/it]\n"
     ]
    }
   ],
   "source": [
    "#Iterate over all the ten students\n",
    "for i in range(1,11):\n",
    "    #create the path for each student\n",
    "    path = './data/S'+str(i)+'/'\n",
    "    #create the dictionaries for each student\n",
    "    dfs, dfs_averaged = create_dicts_for_students(path)\n",
    "    \n",
    "    #define the output directory\n",
    "    outdir = './data/dataframes/S'+str(i)+'/'\n",
    "\n",
    "    #save the dictionaries in many csv files\n",
    "    for key in dfs.keys():\n",
    "        #if the directory does not exist, create it\n",
    "        if not os.path.exists(outdir):\n",
    "            os.mkdir(outdir)\n",
    "        #save the dataframes in csv files\n",
    "        dfs[key].to_csv('./data/dataframes/S'+str(i)+'/S'+str(i)+'_'+key+'.csv', index=False)\n",
    "        dfs_averaged[key].to_csv('./data/dataframes/S'+str(i)+'/S'+str(i)+'_'+key+'_averaged_quartile.csv', index=False)"
   ]
  }
 ],
 "metadata": {
  "kernelspec": {
   "display_name": "Python 3.8.12 ('base')",
   "language": "python",
   "name": "python3"
  },
  "language_info": {
   "codemirror_mode": {
    "name": "ipython",
    "version": 3
   },
   "file_extension": ".py",
   "mimetype": "text/x-python",
   "name": "python",
   "nbconvert_exporter": "python",
   "pygments_lexer": "ipython3",
   "version": "3.8.12"
  },
  "orig_nbformat": 4,
  "vscode": {
   "interpreter": {
    "hash": "27285ce263d64f25d0dd6f896cad358f019a0c4e7fe2385439de09a64d0a941c"
   }
  }
 },
 "nbformat": 4,
 "nbformat_minor": 2
}
