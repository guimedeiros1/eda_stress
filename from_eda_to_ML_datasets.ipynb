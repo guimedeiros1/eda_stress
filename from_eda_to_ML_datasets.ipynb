{
 "cells": [
  {
   "cell_type": "code",
   "execution_count": 1,
   "metadata": {},
   "outputs": [],
   "source": [
    "import pandas as pd"
   ]
  },
  {
   "cell_type": "code",
   "execution_count": 18,
   "metadata": {},
   "outputs": [
    {
     "data": {
      "text/html": [
       "<div>\n",
       "<style scoped>\n",
       "    .dataframe tbody tr th:only-of-type {\n",
       "        vertical-align: middle;\n",
       "    }\n",
       "\n",
       "    .dataframe tbody tr th {\n",
       "        vertical-align: top;\n",
       "    }\n",
       "\n",
       "    .dataframe thead th {\n",
       "        text-align: right;\n",
       "    }\n",
       "</style>\n",
       "<table border=\"1\" class=\"dataframe\">\n",
       "  <thead>\n",
       "    <tr style=\"text-align: right;\">\n",
       "      <th></th>\n",
       "      <th>Subject</th>\n",
       "      <th>Grade</th>\n",
       "      <th>Exam</th>\n",
       "      <th>t_sec</th>\n",
       "      <th>EDA_Tonic_mean</th>\n",
       "      <th>EDA_Phasic_mean</th>\n",
       "      <th>SCR_Amplitude_mean</th>\n",
       "      <th>SCR_RiseTime_mean</th>\n",
       "      <th>SCR_Amplitude_RiseTime_Ratio_mean</th>\n",
       "      <th>SCR_Peaks_sum</th>\n",
       "      <th>EDA_Phasic_std</th>\n",
       "      <th>EDA_Phasic_AUC</th>\n",
       "    </tr>\n",
       "  </thead>\n",
       "  <tbody>\n",
       "    <tr>\n",
       "      <th>0</th>\n",
       "      <td>1</td>\n",
       "      <td>182</td>\n",
       "      <td>3</td>\n",
       "      <td>0</td>\n",
       "      <td>0.133777</td>\n",
       "      <td>-0.000954</td>\n",
       "      <td>0.000000</td>\n",
       "      <td>0.0</td>\n",
       "      <td>0.000000</td>\n",
       "      <td>0.0</td>\n",
       "      <td>0.009348</td>\n",
       "      <td>-0.114473</td>\n",
       "    </tr>\n",
       "    <tr>\n",
       "      <th>1</th>\n",
       "      <td>1</td>\n",
       "      <td>182</td>\n",
       "      <td>3</td>\n",
       "      <td>120</td>\n",
       "      <td>0.133860</td>\n",
       "      <td>0.000898</td>\n",
       "      <td>0.037155</td>\n",
       "      <td>0.5</td>\n",
       "      <td>0.074309</td>\n",
       "      <td>1.0</td>\n",
       "      <td>0.008725</td>\n",
       "      <td>0.108483</td>\n",
       "    </tr>\n",
       "    <tr>\n",
       "      <th>2</th>\n",
       "      <td>1</td>\n",
       "      <td>182</td>\n",
       "      <td>3</td>\n",
       "      <td>240</td>\n",
       "      <td>0.136491</td>\n",
       "      <td>-0.001783</td>\n",
       "      <td>0.000000</td>\n",
       "      <td>0.0</td>\n",
       "      <td>0.000000</td>\n",
       "      <td>0.0</td>\n",
       "      <td>0.013404</td>\n",
       "      <td>-0.213241</td>\n",
       "    </tr>\n",
       "    <tr>\n",
       "      <th>3</th>\n",
       "      <td>1</td>\n",
       "      <td>182</td>\n",
       "      <td>3</td>\n",
       "      <td>360</td>\n",
       "      <td>0.143556</td>\n",
       "      <td>0.000198</td>\n",
       "      <td>0.000000</td>\n",
       "      <td>0.0</td>\n",
       "      <td>0.000000</td>\n",
       "      <td>0.0</td>\n",
       "      <td>0.005409</td>\n",
       "      <td>0.023640</td>\n",
       "    </tr>\n",
       "    <tr>\n",
       "      <th>4</th>\n",
       "      <td>1</td>\n",
       "      <td>182</td>\n",
       "      <td>3</td>\n",
       "      <td>480</td>\n",
       "      <td>0.151462</td>\n",
       "      <td>0.000912</td>\n",
       "      <td>0.000000</td>\n",
       "      <td>0.0</td>\n",
       "      <td>0.000000</td>\n",
       "      <td>0.0</td>\n",
       "      <td>0.002733</td>\n",
       "      <td>0.109160</td>\n",
       "    </tr>\n",
       "  </tbody>\n",
       "</table>\n",
       "</div>"
      ],
      "text/plain": [
       "   Subject  Grade  Exam  t_sec  EDA_Tonic_mean  EDA_Phasic_mean  \\\n",
       "0        1    182     3      0        0.133777        -0.000954   \n",
       "1        1    182     3    120        0.133860         0.000898   \n",
       "2        1    182     3    240        0.136491        -0.001783   \n",
       "3        1    182     3    360        0.143556         0.000198   \n",
       "4        1    182     3    480        0.151462         0.000912   \n",
       "\n",
       "   SCR_Amplitude_mean  SCR_RiseTime_mean  SCR_Amplitude_RiseTime_Ratio_mean  \\\n",
       "0            0.000000                0.0                           0.000000   \n",
       "1            0.037155                0.5                           0.074309   \n",
       "2            0.000000                0.0                           0.000000   \n",
       "3            0.000000                0.0                           0.000000   \n",
       "4            0.000000                0.0                           0.000000   \n",
       "\n",
       "   SCR_Peaks_sum  EDA_Phasic_std  EDA_Phasic_AUC  \n",
       "0            0.0        0.009348       -0.114473  \n",
       "1            1.0        0.008725        0.108483  \n",
       "2            0.0        0.013404       -0.213241  \n",
       "3            0.0        0.005409        0.023640  \n",
       "4            0.0        0.002733        0.109160  "
      ]
     },
     "execution_count": 18,
     "metadata": {},
     "output_type": "execute_result"
    }
   ],
   "source": [
    "# Load the datasets\n",
    "df_final_120_real = pd.read_csv('./dataframes/All_Subjects/Reduced/Processed_EDA_Final_Win_120.csv')\n",
    "df_final_120_synthetic = pd.read_csv('./dataframes/All_Subjects/Synthetic_data/Processed_EDA_Final_Win_120.csv.csv')\n",
    "\n",
    "df_mid1_120_real = pd.read_csv('./dataframes/All_Subjects/Reduced/Processed_EDA_midterm_1_Win_120.csv')\n",
    "df_mid1_120_synthetic = pd.read_csv('./dataframes/All_Subjects/Synthetic_data/Processed_EDA_midterm_1_Win_120.csv.csv')\n",
    "\n",
    "df_mid2_120_real = pd.read_csv('./dataframes/All_Subjects/Reduced/Processed_EDA_midterm_2_Win_120.csv')\n",
    "df_mid2_120_synthetic = pd.read_csv('./dataframes/All_Subjects/Synthetic_data/Processed_EDA_midterm_2_Win_120.csv.csv')\n",
    "\n",
    "df_final_120_real.head()"
   ]
  },
  {
   "cell_type": "code",
   "execution_count": 17,
   "metadata": {},
   "outputs": [
    {
     "name": "stdout",
     "output_type": "stream",
     "text": [
      "810496.2315414486\n",
      "202711.50192301415\n",
      "202736.65334181456\n"
     ]
    }
   ],
   "source": [
    "#60\n",
    "print(df_final_120_real.var().mean())\n",
    "\n",
    "print(df_mid1_120_real.var().mean())\n",
    "\n",
    "print(df_mid2_120_real.var().mean())"
   ]
  },
  {
   "cell_type": "code",
   "execution_count": 13,
   "metadata": {},
   "outputs": [
    {
     "name": "stdout",
     "output_type": "stream",
     "text": [
      "810287.7641015253\n",
      "202614.40045427092\n",
      "202638.72642291817\n"
     ]
    }
   ],
   "source": [
    "#30\n",
    "print(df_final_120_real.var().mean())\n",
    "\n",
    "print(df_mid1_120_real.var().mean())\n",
    "\n",
    "print(df_mid2_120_real.var().mean())"
   ]
  },
  {
   "cell_type": "code",
   "execution_count": 15,
   "metadata": {},
   "outputs": [
    {
     "name": "stdout",
     "output_type": "stream",
     "text": [
      "810878.2038713754\n",
      "202869.42437074616\n",
      "202895.68155603507\n"
     ]
    }
   ],
   "source": [
    "#120\n",
    "print(df_final_120_real.var().mean())\n",
    "\n",
    "print(df_mid1_120_real.var().mean())\n",
    "\n",
    "print(df_mid2_120_real.var().mean())"
   ]
  },
  {
   "cell_type": "code",
   "execution_count": 14,
   "metadata": {},
   "outputs": [],
   "source": [
    "def get_stats(df):\n",
    "    df_mean = df[[\"Subject\", \"Grade\", \"Exam\", \"EDA_Tonic_mean\", \"EDA_Phasic_mean\", \"SCR_Amplitude_mean\",\n",
    "                                \"SCR_RiseTime_mean\", \"SCR_Amplitude_RiseTime_Ratio_mean\", \n",
    "                                \"EDA_Phasic_std\", \"EDA_Phasic_AUC\"]].groupby('Subject').mean()\n",
    "\n",
    "    df_sum = df[[\"Subject\", \"SCR_Peaks_sum\"]].groupby('Subject').sum()\n",
    "\n",
    "    #transform grade to integer\n",
    "    #df_mean['Grade'] = df_mean['Grade'].apply(lambda x: int(x))\n",
    "\n",
    "    df = pd.merge(df_mean, df_sum, on='Subject')\n",
    "\n",
    "    df.reset_index(inplace=True)\n",
    "    \n",
    "    return df"
   ]
  },
  {
   "cell_type": "code",
   "execution_count": 15,
   "metadata": {},
   "outputs": [],
   "source": [
    "# concatenate the real and synthetic data\n",
    "df_final_120 = pd.concat([df_final_120_real, df_final_120_synthetic])\n",
    "df_mid1_120 = pd.concat([df_mid1_120_real, df_mid1_120_synthetic])\n",
    "df_mid2_120 = pd.concat([df_mid2_120_real, df_mid2_120_synthetic])"
   ]
  },
  {
   "cell_type": "code",
   "execution_count": 16,
   "metadata": {},
   "outputs": [],
   "source": [
    "df_final_120_stats = get_stats(df_final_120)\n",
    "\n",
    "df_mid1_120_stats = get_stats(df_mid1_120)\n",
    "\n",
    "df_mid2_120_stats = get_stats(df_mid2_120)"
   ]
  },
  {
   "cell_type": "code",
   "execution_count": 17,
   "metadata": {},
   "outputs": [],
   "source": [
    "df_final_120_stats.to_csv('./dataframes/All_Subjects/ML/Processed_EDA_Final_Win_120_Stats.csv')\n",
    "\n",
    "df_mid1_120_stats.to_csv('./dataframes/All_Subjects/ML/Processed_EDA_midterm_1_Win_120_Stats.csv')\n",
    "\n",
    "df_mid2_120_stats.to_csv('./dataframes/All_Subjects/ML/Processed_EDA_midterm_2_Win_120_Stats.csv')"
   ]
  },
  {
   "cell_type": "code",
   "execution_count": null,
   "metadata": {},
   "outputs": [],
   "source": []
  }
 ],
 "metadata": {
  "kernelspec": {
   "display_name": "base",
   "language": "python",
   "name": "python3"
  },
  "language_info": {
   "codemirror_mode": {
    "name": "ipython",
    "version": 3
   },
   "file_extension": ".py",
   "mimetype": "text/x-python",
   "name": "python",
   "nbconvert_exporter": "python",
   "pygments_lexer": "ipython3",
   "version": "3.11.5"
  }
 },
 "nbformat": 4,
 "nbformat_minor": 2
}
